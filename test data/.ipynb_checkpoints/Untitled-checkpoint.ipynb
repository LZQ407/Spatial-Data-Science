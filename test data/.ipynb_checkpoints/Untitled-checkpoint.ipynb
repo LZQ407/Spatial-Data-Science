{
 "cells": [
  {
   "cell_type": "code",
   "execution_count": 5,
   "id": "75173905-70f2-4b4f-9dea-1aa086be63d8",
   "metadata": {},
   "outputs": [
    {
     "name": "stdout",
     "output_type": "stream",
     "text": [
      "处理完成，数据已保存为：LSOA_Annual_Violent_Crime_2010_2017.csv\n"
     ]
    }
   ],
   "source": [
    "import pandas as pd\n",
    "\n",
    "# 1. 读取原始数据\n",
    "file_path = \"MPS_LSOA_Level_VioCrime2010-2017.csv\"\n",
    "df = pd.read_csv(file_path)\n",
    "\n",
    "# 2. 将年月列（如201903）转换为长格式\n",
    "df_long = df.melt(\n",
    "    id_vars=[\"LSOA Code\", \"LSOA Name\", \"Borough\", \"Major Category\", \"Minor Category\"],\n",
    "    var_name=\"YearMonth\",\n",
    "    value_name=\"Crime Count\"\n",
    ")\n",
    "\n",
    "# 3. 提取年份，确保 Crime Count 为数值类型\n",
    "df_long[\"Year\"] = df_long[\"YearMonth\"].astype(str).str[:4].astype(int)\n",
    "df_long[\"Crime Count\"] = pd.to_numeric(df_long[\"Crime Count\"], errors=\"coerce\")\n",
    "\n",
    "# 4. 仅保留 2010–2017 年的数据\n",
    "df_filtered = df_long[df_long[\"Year\"].between(2010, 2017)]\n",
    "\n",
    "# 5. 分组统计各 LSOA 每年暴力犯罪总数，同时保留描述信息\n",
    "df_summary = df_filtered.groupby(\n",
    "    [\"LSOA Code\", \"LSOA Name\", \"Borough\", \"Major Category\", \"Minor Category\", \"Year\"]\n",
    ")[\"Crime Count\"].sum().reset_index()\n",
    "\n",
    "# 6. 可选：保存结果为 CSV\n",
    "df_summary.to_csv(\"LSOA_Annual_Violent_Crime_2010_2017.csv\", index=False)\n",
    "\n",
    "print(\"处理完成，数据已保存为：LSOA_Annual_Violent_Crime_2010_2017.csv\")\n"
   ]
  },
  {
   "cell_type": "code",
   "execution_count": null,
   "id": "41066544-3b06-4b8a-82bc-ff4d5d640ebc",
   "metadata": {},
   "outputs": [],
   "source": [
    "import pandas as pd\n",
    "\n",
    "# === 1. 文件路径 ===\n",
    "file_crime = \"LSOA_Annual_Violent_Crime_2010_2017.csv\"\n",
    "file_nte = \"night-time-economy(NTE businesses London MSOAs).csv\"\n",
    "file_lookup = \"2011LSOA-MSOA-LA.csv\"\n",
    "\n",
    "# === 2. 清洗 NTE 数据 ===\n",
    "df_nte_raw = pd.read_csv(file_nte, header=None)\n",
    "\n",
    "# 使用第2和第3行构造列名\n",
    "header_row_1 = df_nte_raw.iloc[1, :3].fillna(\"\").astype(str).tolist()\n",
    "header_row_2 = df_nte_raw.iloc[2, 3:20].fillna(\"\").astype(str).tolist()\n",
    "final_columns = header_row_1 + header_row_2\n",
    "\n",
    "# 从第4行开始读取数据，并赋予列名\n",
    "df_nte_data = df_nte_raw.iloc[3:, :len(final_columns)].copy()\n",
    "df_nte_data.columns = final_columns\n",
    "\n",
    "# 重命名前3列\n",
    "df_nte_data.columns = [\"Area code\", \"Area name\", \"NTE category\"] + [str(year) for year in range(2001, 2018)]\n",
    "\n",
    "# 保留 2010–2017 年数据\n",
    "year_columns = [str(year) for year in range(2010, 2018)]\n",
    "df_nte_filtered = df_nte_data[[\"Area code\", \"Area name\", \"NTE category\"] + year_columns]\n",
    "\n",
    "# 转换为长格式\n",
    "df_nte_long = df_nte_filtered.melt(\n",
    "    id_vars=[\"Area code\", \"Area name\", \"NTE category\"],\n",
    "    var_name=\"Year\",\n",
    "    value_name=\"Workplace Count\"\n",
    ")\n",
    "df_nte_long[\"Year\"] = df_nte_long[\"Year\"].astype(int)\n",
    "df_nte_long[\"Workplace Count\"] = df_nte_long[\"Workplace Count\"].replace(\",\", \"\", regex=True).astype(float)\n",
    "df_nte_long.rename(columns={\"Area code\": \"MSOA11CD\"}, inplace=True)\n",
    "\n",
    "# 保留有效 MSOA 编码（以 E02 开头）\n",
    "df_nte_long = df_nte_long[df_nte_long[\"MSOA11CD\"].astype(str).str.startswith(\"E02\")]\n",
    "\n",
    "# === 3. 清洗 LSOA 暴力犯罪数据并合并到 MSOA ===\n",
    "df_crime = pd.read_csv(file_crime)\n",
    "df_lookup = pd.read_csv(file_lookup)\n",
    "df_lookup_lsoa_msoa = df_lookup[[\"LSOA11CD\", \"MSOA11CD\"]].drop_duplicates()\n",
    "\n",
    "# 将 LSOA 映射为 MSOA\n",
    "df_crime_msoa = df_crime.merge(df_lookup_lsoa_msoa, left_on=\"LSOA Code\", right_on=\"LSOA11CD\", how=\"left\")\n",
    "\n",
    "# 聚合为每年每个 MSOA 的暴力犯罪数量\n",
    "df_crime_msoa_grouped = df_crime_msoa.groupby([\"MSOA11CD\", \"Year\"])[\"Crime Count\"].sum().reset_index()\n",
    "\n",
    "# === 4. 合并两个数据集 ===\n",
    "df_merged = pd.merge(df_crime_msoa_grouped, df_nte_long, on=[\"MSOA11CD\", \"Year\"], how=\"outer\")\n",
    "\n",
    "# === 5. 保存最终结果（可选）===\n",
    "df_merged.to_csv(\"/mnt/data/Merged_MSOA_Crime_NTE_2010_2017.csv\", index=False)\n",
    "print(\"✅ 合并完成，文件已保存为：Merged_MSOA_Crime_NTE_2010_2017.csv\")\n"
   ]
  }
 ],
 "metadata": {
  "kernelspec": {
   "display_name": "Python (base)",
   "language": "python",
   "name": "base"
  },
  "language_info": {
   "codemirror_mode": {
    "name": "ipython",
    "version": 3
   },
   "file_extension": ".py",
   "mimetype": "text/x-python",
   "name": "python",
   "nbconvert_exporter": "python",
   "pygments_lexer": "ipython3",
   "version": "3.11.9"
  }
 },
 "nbformat": 4,
 "nbformat_minor": 5
}
